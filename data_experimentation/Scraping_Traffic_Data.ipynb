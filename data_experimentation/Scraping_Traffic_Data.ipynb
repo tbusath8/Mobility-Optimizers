{
 "cells": [
  {
   "cell_type": "code",
   "execution_count": 1,
   "id": "edb741a1",
   "metadata": {},
   "outputs": [],
   "source": [
    "#Need to install selenium and a chromedriver \n",
    "#https://selenium-python.readthedocs.io/installation.html\n",
    "#Change the executable path in the function to be the path to the chromedriver\n",
    "from selenium import webdriver\n",
    "from time import sleep\n",
    "import pandas as pd\n",
    "import numpy as np\n",
    "  "
   ]
  },
  {
   "cell_type": "code",
   "execution_count": 2,
   "id": "8a7541c9",
   "metadata": {},
   "outputs": [],
   "source": [
    "def scrape_traffic_data(station_number,year,month):\n",
    "    chrome_options = webdriver.ChromeOptions()\n",
    "    chrome_options.add_argument('--headless')\n",
    "    driver = webdriver.Chrome(\n",
    "        executable_path=\"C:/Users/tbusa/Downloads/chromedriver_win32/chromedriver.exe\", options=chrome_options)\n",
    "    url = 'https://dtdapps.coloradodot.info/otis/TrafficData/GetDailyTrafficVolumeForStationByMonth/' + str(station_number) + '/true/' + str(year) +'/' + str(month) \n",
    "    driver.get(url)\n",
    "    rows = 1+len(driver.find_elements_by_xpath('//*[@id=\"main\"]/div/div[2]/table/tbody/tr'))\n",
    "    cols = 1+len(driver.find_elements_by_xpath('//*[@id=\"main\"]/div/div[2]/table/tbody/tr[1]/td'))\n",
    "    \n",
    "    matrix = np.empty(shape=(rows-1,cols-1),dtype='object')\n",
    "    column_names = []\n",
    "    \n",
    "    for c in range(1,cols):\n",
    "        path = '//*[@id=\"main\"]/div/div[2]/table/thead/tr/th[' + str(c) +']'\n",
    "        value = driver.find_element_by_xpath(path).text \n",
    "        column_names.append(value)\n",
    "        \n",
    "    for r in range(1, rows):\n",
    "        for p in range(1, cols):\n",
    "\n",
    "            path = '//*[@id=\"main\"]/div/div[2]/table/tbody/tr[' + str(r) + ']/td[' + str(p)+ ']'\n",
    "            value = driver.find_element_by_xpath(path).text \n",
    "            matrix[r-1][p-1] = value\n",
    "\n",
    "    df = pd.DataFrame(matrix, columns=column_names)\n",
    "    return df\n",
    "\n"
   ]
  },
  {
   "cell_type": "code",
   "execution_count": null,
   "id": "c5c83f6e",
   "metadata": {},
   "outputs": [],
   "source": [
    "df = scrape_traffic_data('000501',2021,9)\n",
    "df"
   ]
  },
  {
   "cell_type": "code",
   "execution_count": null,
   "id": "2db6e085",
   "metadata": {},
   "outputs": [],
   "source": []
  }
 ],
 "metadata": {
  "kernelspec": {
   "display_name": "Python [conda env:mobility-optimizers] *",
   "language": "python",
   "name": "conda-env-mobility-optimizers-py"
  },
  "language_info": {
   "codemirror_mode": {
    "name": "ipython",
    "version": 3
   },
   "file_extension": ".py",
   "mimetype": "text/x-python",
   "name": "python",
   "nbconvert_exporter": "python",
   "pygments_lexer": "ipython3",
   "version": "3.8.11"
  }
 },
 "nbformat": 4,
 "nbformat_minor": 5
}
